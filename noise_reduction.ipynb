{
 "cells": [
  {
   "cell_type": "markdown",
   "metadata": {},
   "source": [
    "# Noise Reduction Using CNN"
   ]
  },
  {
   "cell_type": "markdown",
   "metadata": {},
   "source": [
    "## 1 - Introduction\n",
    "Noise reduction can be implemented on both images and audio files. In this project I will implement it on both types. First we will start working with images as it will gives us an understanding of how Convolutional Neural Network (CNN) works. I will try my best to explain each and every step in deapth. \n",
    "\n",
    "### 1.1 - Noise\n",
    "Noise is any unwanted signal in any signal. In context of images it is  random variation of brightness or color information in images, and is usually an aspect of electronic noise (wikipedia: https://en.wikipedia.org/wiki/Image_noise). In audio, noise is unwanted or harmful sound considered unpleasant, loud, or disruptive to hearing (wikipedia: https://en.wikipedia.org/wiki/Noise).\n",
    "\n",
    "### 1.2 - Clean image or audio\n",
    "When noise is reduced or canceled out the outcome we get is clean image or audio.\n",
    "\n",
    "### 1.3 - Steps of Training a Neural Network\n",
    "Following are the steps of training a neural network:\n",
    "1. Data preprocessing\n",
    "2. Define Model\n",
    "3. Forward Propagation\n",
    "4. Calculate Loss\n",
    "5. Backward Propagation\n",
    "6. Update weights\n",
    "7. Repeat\n",
    "\n",
    "\n",
    "#### *Pre-requsite*\n",
    "1. Neural Network\n"
   ]
  },
  {
   "cell_type": "markdown",
   "metadata": {},
   "source": [
    "## 2 - Image Noise Reduction\n",
    "\n"
   ]
  },
  {
   "cell_type": "markdown",
   "metadata": {},
   "source": [
    "We will be using supervised learning. The dataset we need to train the CNN will consist of\n",
    "1. Noisy images\n",
    "2. Clean images (Actual images)\n",
    "\n",
    "We will feed the noisy images to CNN and it will predict a clean image (predicted image), then it will compare the clean images, predicted and actual image, and calculates the loss. Then it will update the weights accordingly. This process will repeat until we will get our desired results. This is the general overview of our training. We will discuss each and every step in detail when implementing."
   ]
  }
 ],
 "metadata": {
  "language_info": {
   "name": "python"
  }
 },
 "nbformat": 4,
 "nbformat_minor": 2
}
