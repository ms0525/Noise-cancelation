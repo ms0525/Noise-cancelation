{
 "cells": [
  {
   "cell_type": "markdown",
   "metadata": {},
   "source": [
    "# Noise Reduction Using CNN"
   ]
  },
  {
   "cell_type": "markdown",
   "metadata": {},
   "source": [
    "## 1 - Introduction\n",
    "Noise reduction can be implemented on both images and audio files. In this project I will implement it on both types. First we will start working with images as it will gives us an understanding of how Convolutional Neural Network (CNN) works. I will try my best to explain each and every step in deapth. \n",
    "\n",
    "### 1.1 - Noise\n",
    "Noise is any unwanted signal in any signal. In context of images it is  random variation of brightness or color information in images, and is usually an aspect of electronic noise (wikipedia: https://en.wikipedia.org/wiki/Image_noise). In audio, noise is unwanted or harmful sound considered unpleasant, loud, or disruptive to hearing (wikipedia: https://en.wikipedia.org/wiki/Noise).\n",
    "\n",
    "### 1.2 - Clean image or audio\n",
    "When noise is reduced or canceled out the outcome we get is clean image or audio.\n",
    "\n",
    "### 1.3 - Steps of Training a Neural Network\n",
    "Following are the steps of training a neural network:\n",
    "1. Data preprocessing\n",
    "2. Define Model\n",
    "3. Forward Propagation\n",
    "4. Calculate Loss\n",
    "5. Backward Propagation\n",
    "6. Update weights\n",
    "7. Repeat\n",
    "\n",
    "\n",
    "#### *Pre-requsite*\n",
    "1. Neural Network\n"
   ]
  },
  {
   "cell_type": "markdown",
   "metadata": {},
   "source": [
    "## 2 - Image Noise Reduction\n",
    "\n"
   ]
  },
  {
   "cell_type": "markdown",
   "metadata": {},
   "source": [
    "We will be using supervised learning. The dataset we need to train the CNN will consist of\n",
    "1. Noisy images\n",
    "2. Clean images (Actual images)\n",
    "\n",
    "We will feed the noisy images to CNN and it will predict a clean image (predicted image), then it will compare the clean images, predicted and actual image, and calculates the loss. Then it will update the weights accordingly. This process will repeat until we will get our desired results. This is the general overview of our training. We will discuss each and every step in detail when implementing."
   ]
  },
  {
   "cell_type": "markdown",
   "metadata": {},
   "source": [
    "We can use 2 types of dataset to train our model.\n",
    "1. Dataset contains both noisy and clean images.\n",
    "2. Dataset is a set of clean images and we add noise to is using python.\n",
    "\n",
    "we will try it with 2nd approch"
   ]
  },
  {
   "cell_type": "markdown",
   "metadata": {},
   "source": [
    "# Siting Dataset"
   ]
  },
  {
   "cell_type": "code",
   "execution_count": null,
   "metadata": {},
   "outputs": [],
   "source": [
    "'''@InProceedings{MartinFTM01,\n",
    "  author = {D. Martin and C. Fowlkes and D. Tal and J. Malik},\n",
    "  title = {A Database of Human Segmented Natural Images and its\n",
    "           Application to Evaluating Segmentation Algorithms and\n",
    "           Measuring Ecological Statistics},\n",
    "  booktitle = {Proc. 8th Int'l Conf. Computer Vision},\n",
    "  year = {2001},\n",
    "  month = {July},\n",
    "  volume = {2},\n",
    "  pages = {416--423}\n",
    "}'''"
   ]
  },
  {
   "cell_type": "code",
   "execution_count": 1,
   "metadata": {},
   "outputs": [
    {
     "name": "stdout",
     "output_type": "stream",
     "text": [
      "Dataset URL: https://www.kaggle.com/datasets/balraj98/berkeley-segmentation-dataset-500-bsds500\n",
      "License(s): other\n",
      "Downloading berkeley-segmentation-dataset-500-bsds500.zip to d:\\TUI\\Python\\Python projects\\Noise-cancelation\n",
      "\n"
     ]
    },
    {
     "name": "stderr",
     "output_type": "stream",
     "text": [
      "\n",
      "  0%|          | 0.00/56.0M [00:00<?, ?B/s]\n",
      "  2%|▏         | 1.00M/56.0M [00:00<00:32, 1.79MB/s]\n",
      "  5%|▌         | 3.00M/56.0M [00:00<00:10, 5.08MB/s]\n",
      " 11%|█         | 6.00M/56.0M [00:00<00:05, 9.30MB/s]\n",
      " 14%|█▍        | 8.00M/56.0M [00:01<00:04, 10.9MB/s]\n",
      " 20%|█▉        | 11.0M/56.0M [00:01<00:03, 14.9MB/s]\n",
      " 25%|██▌       | 14.0M/56.0M [00:01<00:02, 18.2MB/s]\n",
      " 30%|███       | 17.0M/56.0M [00:01<00:01, 20.7MB/s]\n",
      " 36%|███▌      | 20.0M/56.0M [00:01<00:01, 23.3MB/s]\n",
      " 41%|████      | 23.0M/56.0M [00:01<00:01, 24.6MB/s]\n",
      " 46%|████▋     | 26.0M/56.0M [00:01<00:01, 25.7MB/s]\n",
      " 52%|█████▏    | 29.0M/56.0M [00:01<00:01, 25.1MB/s]\n",
      " 57%|█████▋    | 32.0M/56.0M [00:01<00:00, 26.3MB/s]\n",
      " 63%|██████▎   | 35.0M/56.0M [00:02<00:00, 23.3MB/s]\n",
      " 68%|██████▊   | 38.0M/56.0M [00:02<00:00, 21.5MB/s]\n",
      " 73%|███████▎  | 41.0M/56.0M [00:02<00:00, 22.6MB/s]\n",
      " 79%|███████▊  | 44.0M/56.0M [00:02<00:00, 19.4MB/s]\n",
      " 82%|████████▏ | 46.0M/56.0M [00:02<00:00, 18.8MB/s]\n",
      " 88%|████████▊ | 49.0M/56.0M [00:02<00:00, 20.4MB/s]\n",
      " 93%|█████████▎| 52.0M/56.0M [00:03<00:00, 14.8MB/s]\n",
      "100%|██████████| 56.0M/56.0M [00:03<00:00, 18.3MB/s]\n",
      "100%|██████████| 56.0M/56.0M [00:03<00:00, 17.6MB/s]\n"
     ]
    }
   ],
   "source": [
    "! kaggle datasets download -d balraj98/berkeley-segmentation-dataset-500-bsds500"
   ]
  },
  {
   "cell_type": "code",
   "execution_count": null,
   "metadata": {},
   "outputs": [],
   "source": [
    "# This is the Gausian Noise that we will add to the images\n",
    "\n",
    "import cv2\n",
    "import numpy as np\n",
    "import matplotlib.pyplot as plt\n",
    "\n",
    "gauss_noise=np.zeros((640,480),dtype=np.uint8)\n",
    "cv2.randn(gauss_noise,128,20)\n",
    "gauss_noise=(gauss_noise*0.5).astype(np.uint8)\n",
    "\n",
    "#gn_img=cv2.add(img,gauss_noise)\n",
    "\n",
    "\n",
    "fig=plt.figure(dpi=300)\n",
    "\n",
    "fig.add_subplot(1,3,1)\n",
    "#plt.imshow()\n",
    "plt.axis(\"off\")\n",
    "plt.title(\"Original\")\n",
    "\n",
    "fig.add_subplot(1,3,2)\n",
    "plt.imshow(gauss_noise,cmap='gray')\n",
    "plt.axis(\"off\")\n",
    "plt.title(\"Gaussian Noise\")\n",
    "\n",
    "fig.add_subplot(1,3,3)\n",
    "#plt.imshow()\n",
    "plt.axis(\"off\")\n",
    "plt.title(\"Combined\")"
   ]
  }
 ],
 "metadata": {
  "kernelspec": {
   "display_name": "base",
   "language": "python",
   "name": "python3"
  },
  "language_info": {
   "codemirror_mode": {
    "name": "ipython",
    "version": 3
   },
   "file_extension": ".py",
   "mimetype": "text/x-python",
   "name": "python",
   "nbconvert_exporter": "python",
   "pygments_lexer": "ipython3",
   "version": "3.11.7"
  }
 },
 "nbformat": 4,
 "nbformat_minor": 2
}
